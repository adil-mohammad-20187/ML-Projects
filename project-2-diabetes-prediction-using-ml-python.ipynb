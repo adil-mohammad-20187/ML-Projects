{
 "cells": [
  {
   "cell_type": "code",
   "execution_count": 1,
   "id": "205f10e7",
   "metadata": {
    "_cell_guid": "b1076dfc-b9ad-4769-8c92-a6c4dae69d19",
    "_uuid": "8f2839f25d086af736a60e9eeb907d3b93b6e0e5",
    "execution": {
     "iopub.execute_input": "2022-06-03T19:39:11.490862Z",
     "iopub.status.busy": "2022-06-03T19:39:11.490511Z",
     "iopub.status.idle": "2022-06-03T19:39:11.504513Z",
     "shell.execute_reply": "2022-06-03T19:39:11.503997Z"
    },
    "papermill": {
     "duration": 0.028753,
     "end_time": "2022-06-03T19:39:11.506571",
     "exception": false,
     "start_time": "2022-06-03T19:39:11.477818",
     "status": "completed"
    },
    "tags": []
   },
   "outputs": [
    {
     "name": "stdout",
     "output_type": "stream",
     "text": [
      "/kaggle/input/pima-indians-diabetes-database/diabetes.csv\n"
     ]
    }
   ],
   "source": [
    "# This Python 3 environment comes with many helpful analytics libraries installed\n",
    "# It is defined by the kaggle/python Docker image: https://github.com/kaggle/docker-python\n",
    "# For example, here's several helpful packages to load\n",
    "\n",
    "import numpy as np # linear algebra\n",
    "import pandas as pd # data processing, CSV file I/O (e.g. pd.read_csv)\n",
    "\n",
    "# Input data files are available in the read-only \"../input/\" directory\n",
    "# For example, running this (by clicking run or pressing Shift+Enter) will list all files under the input directory\n",
    "\n",
    "import os\n",
    "for dirname, _, filenames in os.walk('/kaggle/input'):\n",
    "    for filename in filenames:\n",
    "        print(os.path.join(dirname, filename))\n",
    "\n",
    "# You can write up to 20GB to the current directory (/kaggle/working/) that gets preserved as output when you create a version using \"Save & Run All\" \n",
    "# You can also write temporary files to /kaggle/temp/, but they won't be saved outside of the current session"
   ]
  },
  {
   "cell_type": "code",
   "execution_count": 2,
   "id": "4852ebcc",
   "metadata": {
    "execution": {
     "iopub.execute_input": "2022-06-03T19:39:11.524051Z",
     "iopub.status.busy": "2022-06-03T19:39:11.523132Z",
     "iopub.status.idle": "2022-06-03T19:39:11.528084Z",
     "shell.execute_reply": "2022-06-03T19:39:11.527605Z"
    },
    "papermill": {
     "duration": 0.015915,
     "end_time": "2022-06-03T19:39:11.530483",
     "exception": false,
     "start_time": "2022-06-03T19:39:11.514568",
     "status": "completed"
    },
    "tags": []
   },
   "outputs": [],
   "source": [
    "# About this project :-\n",
    "# The objective of this project is to classify whether someone has diabetes or not.\n",
    "# Dataset consists of several Medical Variables(Independent) and one Outcome Variable(Dependent)\n",
    "# The independent variables in this data set are :-'Pregnancies', 'Glucose', 'BloodPressure', 'SkinThickness', 'Insulin','BMI', 'DiabetesPedigreeFunction', 'Age'\n",
    "# The outcome variable value is either 1 or 0 indicating whether a person has diabetes(1) or not(0).\n",
    "# About the Dataset\n",
    "# Pregnancies :- Number of times a woman has been pregnant\n",
    "# Glucose :- Plasma Glucose concentration of 2 hours in an oral glucose tolerance test\n",
    "# BloodPressure :- Diastollic Blood Pressure (mm hg)\n",
    "# SkinThickness :- Triceps skin fold thickness(mm)\n",
    "# Insulin :- 2 hour serum insulin(mu U/ml)\n",
    "# BMI :- Body Mass Index ((weight in kg/height in m)^2)\n",
    "# Age :- Age(years)\n",
    "# DiabetesPedigreeFunction :-scores likelihood of diabetes based on family history)\n",
    "# Outcome :- 0(doesn't have diabetes) or 1 (has diabetes)"
   ]
  },
  {
   "cell_type": "code",
   "execution_count": 3,
   "id": "ff8beab2",
   "metadata": {
    "execution": {
     "iopub.execute_input": "2022-06-03T19:39:11.548934Z",
     "iopub.status.busy": "2022-06-03T19:39:11.548041Z",
     "iopub.status.idle": "2022-06-03T19:39:12.715704Z",
     "shell.execute_reply": "2022-06-03T19:39:12.714701Z"
    },
    "papermill": {
     "duration": 1.179079,
     "end_time": "2022-06-03T19:39:12.717757",
     "exception": false,
     "start_time": "2022-06-03T19:39:11.538678",
     "status": "completed"
    },
    "tags": []
   },
   "outputs": [],
   "source": [
    "import numpy as np\n",
    "import pandas as pd\n",
    "from sklearn.preprocessing import StandardScaler\n",
    "from sklearn.model_selection import train_test_split\n",
    "from sklearn import svm\n",
    "from sklearn.metrics import accuracy_score"
   ]
  },
  {
   "cell_type": "markdown",
   "id": "ad89fdd5",
   "metadata": {
    "papermill": {
     "duration": 0.004835,
     "end_time": "2022-06-03T19:39:12.727830",
     "exception": false,
     "start_time": "2022-06-03T19:39:12.722995",
     "status": "completed"
    },
    "tags": []
   },
   "source": [
    "#Data Collection and Analysis "
   ]
  },
  {
   "cell_type": "code",
   "execution_count": 4,
   "id": "cf805352",
   "metadata": {
    "execution": {
     "iopub.execute_input": "2022-06-03T19:39:12.739818Z",
     "iopub.status.busy": "2022-06-03T19:39:12.739444Z",
     "iopub.status.idle": "2022-06-03T19:39:12.759149Z",
     "shell.execute_reply": "2022-06-03T19:39:12.758079Z"
    },
    "papermill": {
     "duration": 0.028825,
     "end_time": "2022-06-03T19:39:12.761777",
     "exception": false,
     "start_time": "2022-06-03T19:39:12.732952",
     "status": "completed"
    },
    "tags": []
   },
   "outputs": [],
   "source": [
    "data = pd.read_csv('../input/pima-indians-diabetes-database/diabetes.csv')"
   ]
  },
  {
   "cell_type": "code",
   "execution_count": 5,
   "id": "af32af7c",
   "metadata": {
    "execution": {
     "iopub.execute_input": "2022-06-03T19:39:12.778997Z",
     "iopub.status.busy": "2022-06-03T19:39:12.778357Z",
     "iopub.status.idle": "2022-06-03T19:39:12.797899Z",
     "shell.execute_reply": "2022-06-03T19:39:12.797024Z"
    },
    "papermill": {
     "duration": 0.029922,
     "end_time": "2022-06-03T19:39:12.799687",
     "exception": false,
     "start_time": "2022-06-03T19:39:12.769765",
     "status": "completed"
    },
    "tags": []
   },
   "outputs": [
    {
     "data": {
      "text/html": [
       "<div>\n",
       "<style scoped>\n",
       "    .dataframe tbody tr th:only-of-type {\n",
       "        vertical-align: middle;\n",
       "    }\n",
       "\n",
       "    .dataframe tbody tr th {\n",
       "        vertical-align: top;\n",
       "    }\n",
       "\n",
       "    .dataframe thead th {\n",
       "        text-align: right;\n",
       "    }\n",
       "</style>\n",
       "<table border=\"1\" class=\"dataframe\">\n",
       "  <thead>\n",
       "    <tr style=\"text-align: right;\">\n",
       "      <th></th>\n",
       "      <th>Pregnancies</th>\n",
       "      <th>Glucose</th>\n",
       "      <th>BloodPressure</th>\n",
       "      <th>SkinThickness</th>\n",
       "      <th>Insulin</th>\n",
       "      <th>BMI</th>\n",
       "      <th>DiabetesPedigreeFunction</th>\n",
       "      <th>Age</th>\n",
       "      <th>Outcome</th>\n",
       "    </tr>\n",
       "  </thead>\n",
       "  <tbody>\n",
       "    <tr>\n",
       "      <th>0</th>\n",
       "      <td>6</td>\n",
       "      <td>148</td>\n",
       "      <td>72</td>\n",
       "      <td>35</td>\n",
       "      <td>0</td>\n",
       "      <td>33.6</td>\n",
       "      <td>0.627</td>\n",
       "      <td>50</td>\n",
       "      <td>1</td>\n",
       "    </tr>\n",
       "    <tr>\n",
       "      <th>1</th>\n",
       "      <td>1</td>\n",
       "      <td>85</td>\n",
       "      <td>66</td>\n",
       "      <td>29</td>\n",
       "      <td>0</td>\n",
       "      <td>26.6</td>\n",
       "      <td>0.351</td>\n",
       "      <td>31</td>\n",
       "      <td>0</td>\n",
       "    </tr>\n",
       "    <tr>\n",
       "      <th>2</th>\n",
       "      <td>8</td>\n",
       "      <td>183</td>\n",
       "      <td>64</td>\n",
       "      <td>0</td>\n",
       "      <td>0</td>\n",
       "      <td>23.3</td>\n",
       "      <td>0.672</td>\n",
       "      <td>32</td>\n",
       "      <td>1</td>\n",
       "    </tr>\n",
       "    <tr>\n",
       "      <th>3</th>\n",
       "      <td>1</td>\n",
       "      <td>89</td>\n",
       "      <td>66</td>\n",
       "      <td>23</td>\n",
       "      <td>94</td>\n",
       "      <td>28.1</td>\n",
       "      <td>0.167</td>\n",
       "      <td>21</td>\n",
       "      <td>0</td>\n",
       "    </tr>\n",
       "    <tr>\n",
       "      <th>4</th>\n",
       "      <td>0</td>\n",
       "      <td>137</td>\n",
       "      <td>40</td>\n",
       "      <td>35</td>\n",
       "      <td>168</td>\n",
       "      <td>43.1</td>\n",
       "      <td>2.288</td>\n",
       "      <td>33</td>\n",
       "      <td>1</td>\n",
       "    </tr>\n",
       "  </tbody>\n",
       "</table>\n",
       "</div>"
      ],
      "text/plain": [
       "   Pregnancies  Glucose  BloodPressure  SkinThickness  Insulin   BMI  \\\n",
       "0            6      148             72             35        0  33.6   \n",
       "1            1       85             66             29        0  26.6   \n",
       "2            8      183             64              0        0  23.3   \n",
       "3            1       89             66             23       94  28.1   \n",
       "4            0      137             40             35      168  43.1   \n",
       "\n",
       "   DiabetesPedigreeFunction  Age  Outcome  \n",
       "0                     0.627   50        1  \n",
       "1                     0.351   31        0  \n",
       "2                     0.672   32        1  \n",
       "3                     0.167   21        0  \n",
       "4                     2.288   33        1  "
      ]
     },
     "execution_count": 5,
     "metadata": {},
     "output_type": "execute_result"
    }
   ],
   "source": [
    "#Printing the first few columns of data\n",
    "data.head()"
   ]
  },
  {
   "cell_type": "code",
   "execution_count": 6,
   "id": "12c28c47",
   "metadata": {
    "execution": {
     "iopub.execute_input": "2022-06-03T19:39:12.817949Z",
     "iopub.status.busy": "2022-06-03T19:39:12.817427Z",
     "iopub.status.idle": "2022-06-03T19:39:12.822894Z",
     "shell.execute_reply": "2022-06-03T19:39:12.822035Z"
    },
    "papermill": {
     "duration": 0.016787,
     "end_time": "2022-06-03T19:39:12.824730",
     "exception": false,
     "start_time": "2022-06-03T19:39:12.807943",
     "status": "completed"
    },
    "tags": []
   },
   "outputs": [
    {
     "data": {
      "text/plain": [
       "(768, 9)"
      ]
     },
     "execution_count": 6,
     "metadata": {},
     "output_type": "execute_result"
    }
   ],
   "source": [
    "# Printing the shape of the data to understand the no of colunns and rows \n",
    "data.shape"
   ]
  },
  {
   "cell_type": "code",
   "execution_count": 7,
   "id": "75cc07c0",
   "metadata": {
    "execution": {
     "iopub.execute_input": "2022-06-03T19:39:12.843330Z",
     "iopub.status.busy": "2022-06-03T19:39:12.842492Z",
     "iopub.status.idle": "2022-06-03T19:39:12.891214Z",
     "shell.execute_reply": "2022-06-03T19:39:12.890302Z"
    },
    "papermill": {
     "duration": 0.060101,
     "end_time": "2022-06-03T19:39:12.893080",
     "exception": false,
     "start_time": "2022-06-03T19:39:12.832979",
     "status": "completed"
    },
    "tags": []
   },
   "outputs": [
    {
     "data": {
      "text/html": [
       "<div>\n",
       "<style scoped>\n",
       "    .dataframe tbody tr th:only-of-type {\n",
       "        vertical-align: middle;\n",
       "    }\n",
       "\n",
       "    .dataframe tbody tr th {\n",
       "        vertical-align: top;\n",
       "    }\n",
       "\n",
       "    .dataframe thead th {\n",
       "        text-align: right;\n",
       "    }\n",
       "</style>\n",
       "<table border=\"1\" class=\"dataframe\">\n",
       "  <thead>\n",
       "    <tr style=\"text-align: right;\">\n",
       "      <th></th>\n",
       "      <th>Pregnancies</th>\n",
       "      <th>Glucose</th>\n",
       "      <th>BloodPressure</th>\n",
       "      <th>SkinThickness</th>\n",
       "      <th>Insulin</th>\n",
       "      <th>BMI</th>\n",
       "      <th>DiabetesPedigreeFunction</th>\n",
       "      <th>Age</th>\n",
       "      <th>Outcome</th>\n",
       "    </tr>\n",
       "  </thead>\n",
       "  <tbody>\n",
       "    <tr>\n",
       "      <th>count</th>\n",
       "      <td>768.000000</td>\n",
       "      <td>768.000000</td>\n",
       "      <td>768.000000</td>\n",
       "      <td>768.000000</td>\n",
       "      <td>768.000000</td>\n",
       "      <td>768.000000</td>\n",
       "      <td>768.000000</td>\n",
       "      <td>768.000000</td>\n",
       "      <td>768.000000</td>\n",
       "    </tr>\n",
       "    <tr>\n",
       "      <th>mean</th>\n",
       "      <td>3.845052</td>\n",
       "      <td>120.894531</td>\n",
       "      <td>69.105469</td>\n",
       "      <td>20.536458</td>\n",
       "      <td>79.799479</td>\n",
       "      <td>31.992578</td>\n",
       "      <td>0.471876</td>\n",
       "      <td>33.240885</td>\n",
       "      <td>0.348958</td>\n",
       "    </tr>\n",
       "    <tr>\n",
       "      <th>std</th>\n",
       "      <td>3.369578</td>\n",
       "      <td>31.972618</td>\n",
       "      <td>19.355807</td>\n",
       "      <td>15.952218</td>\n",
       "      <td>115.244002</td>\n",
       "      <td>7.884160</td>\n",
       "      <td>0.331329</td>\n",
       "      <td>11.760232</td>\n",
       "      <td>0.476951</td>\n",
       "    </tr>\n",
       "    <tr>\n",
       "      <th>min</th>\n",
       "      <td>0.000000</td>\n",
       "      <td>0.000000</td>\n",
       "      <td>0.000000</td>\n",
       "      <td>0.000000</td>\n",
       "      <td>0.000000</td>\n",
       "      <td>0.000000</td>\n",
       "      <td>0.078000</td>\n",
       "      <td>21.000000</td>\n",
       "      <td>0.000000</td>\n",
       "    </tr>\n",
       "    <tr>\n",
       "      <th>25%</th>\n",
       "      <td>1.000000</td>\n",
       "      <td>99.000000</td>\n",
       "      <td>62.000000</td>\n",
       "      <td>0.000000</td>\n",
       "      <td>0.000000</td>\n",
       "      <td>27.300000</td>\n",
       "      <td>0.243750</td>\n",
       "      <td>24.000000</td>\n",
       "      <td>0.000000</td>\n",
       "    </tr>\n",
       "    <tr>\n",
       "      <th>50%</th>\n",
       "      <td>3.000000</td>\n",
       "      <td>117.000000</td>\n",
       "      <td>72.000000</td>\n",
       "      <td>23.000000</td>\n",
       "      <td>30.500000</td>\n",
       "      <td>32.000000</td>\n",
       "      <td>0.372500</td>\n",
       "      <td>29.000000</td>\n",
       "      <td>0.000000</td>\n",
       "    </tr>\n",
       "    <tr>\n",
       "      <th>75%</th>\n",
       "      <td>6.000000</td>\n",
       "      <td>140.250000</td>\n",
       "      <td>80.000000</td>\n",
       "      <td>32.000000</td>\n",
       "      <td>127.250000</td>\n",
       "      <td>36.600000</td>\n",
       "      <td>0.626250</td>\n",
       "      <td>41.000000</td>\n",
       "      <td>1.000000</td>\n",
       "    </tr>\n",
       "    <tr>\n",
       "      <th>max</th>\n",
       "      <td>17.000000</td>\n",
       "      <td>199.000000</td>\n",
       "      <td>122.000000</td>\n",
       "      <td>99.000000</td>\n",
       "      <td>846.000000</td>\n",
       "      <td>67.100000</td>\n",
       "      <td>2.420000</td>\n",
       "      <td>81.000000</td>\n",
       "      <td>1.000000</td>\n",
       "    </tr>\n",
       "  </tbody>\n",
       "</table>\n",
       "</div>"
      ],
      "text/plain": [
       "       Pregnancies     Glucose  BloodPressure  SkinThickness     Insulin  \\\n",
       "count   768.000000  768.000000     768.000000     768.000000  768.000000   \n",
       "mean      3.845052  120.894531      69.105469      20.536458   79.799479   \n",
       "std       3.369578   31.972618      19.355807      15.952218  115.244002   \n",
       "min       0.000000    0.000000       0.000000       0.000000    0.000000   \n",
       "25%       1.000000   99.000000      62.000000       0.000000    0.000000   \n",
       "50%       3.000000  117.000000      72.000000      23.000000   30.500000   \n",
       "75%       6.000000  140.250000      80.000000      32.000000  127.250000   \n",
       "max      17.000000  199.000000     122.000000      99.000000  846.000000   \n",
       "\n",
       "              BMI  DiabetesPedigreeFunction         Age     Outcome  \n",
       "count  768.000000                768.000000  768.000000  768.000000  \n",
       "mean    31.992578                  0.471876   33.240885    0.348958  \n",
       "std      7.884160                  0.331329   11.760232    0.476951  \n",
       "min      0.000000                  0.078000   21.000000    0.000000  \n",
       "25%     27.300000                  0.243750   24.000000    0.000000  \n",
       "50%     32.000000                  0.372500   29.000000    0.000000  \n",
       "75%     36.600000                  0.626250   41.000000    1.000000  \n",
       "max     67.100000                  2.420000   81.000000    1.000000  "
      ]
     },
     "execution_count": 7,
     "metadata": {},
     "output_type": "execute_result"
    }
   ],
   "source": [
    "#statistics measures of the data \n",
    "\n",
    "data.describe()"
   ]
  },
  {
   "cell_type": "code",
   "execution_count": 8,
   "id": "b16f02b4",
   "metadata": {
    "execution": {
     "iopub.execute_input": "2022-06-03T19:39:12.911540Z",
     "iopub.status.busy": "2022-06-03T19:39:12.911190Z",
     "iopub.status.idle": "2022-06-03T19:39:12.917889Z",
     "shell.execute_reply": "2022-06-03T19:39:12.917361Z"
    },
    "papermill": {
     "duration": 0.018346,
     "end_time": "2022-06-03T19:39:12.920101",
     "exception": false,
     "start_time": "2022-06-03T19:39:12.901755",
     "status": "completed"
    },
    "tags": []
   },
   "outputs": [
    {
     "data": {
      "text/plain": [
       "0    500\n",
       "1    268\n",
       "Name: Outcome, dtype: int64"
      ]
     },
     "execution_count": 8,
     "metadata": {},
     "output_type": "execute_result"
    }
   ],
   "source": [
    "#Lets see how many are there for Diabetics postive and negative, Where 0 represents negative and 1 represents positive \n",
    "\n",
    "data['Outcome'].value_counts()"
   ]
  },
  {
   "cell_type": "code",
   "execution_count": 9,
   "id": "fe06e228",
   "metadata": {
    "execution": {
     "iopub.execute_input": "2022-06-03T19:39:12.939024Z",
     "iopub.status.busy": "2022-06-03T19:39:12.938385Z",
     "iopub.status.idle": "2022-06-03T19:39:12.954836Z",
     "shell.execute_reply": "2022-06-03T19:39:12.953990Z"
    },
    "papermill": {
     "duration": 0.027805,
     "end_time": "2022-06-03T19:39:12.956656",
     "exception": false,
     "start_time": "2022-06-03T19:39:12.928851",
     "status": "completed"
    },
    "tags": []
   },
   "outputs": [
    {
     "data": {
      "text/html": [
       "<div>\n",
       "<style scoped>\n",
       "    .dataframe tbody tr th:only-of-type {\n",
       "        vertical-align: middle;\n",
       "    }\n",
       "\n",
       "    .dataframe tbody tr th {\n",
       "        vertical-align: top;\n",
       "    }\n",
       "\n",
       "    .dataframe thead th {\n",
       "        text-align: right;\n",
       "    }\n",
       "</style>\n",
       "<table border=\"1\" class=\"dataframe\">\n",
       "  <thead>\n",
       "    <tr style=\"text-align: right;\">\n",
       "      <th></th>\n",
       "      <th>Pregnancies</th>\n",
       "      <th>Glucose</th>\n",
       "      <th>BloodPressure</th>\n",
       "      <th>SkinThickness</th>\n",
       "      <th>Insulin</th>\n",
       "      <th>BMI</th>\n",
       "      <th>DiabetesPedigreeFunction</th>\n",
       "      <th>Age</th>\n",
       "    </tr>\n",
       "    <tr>\n",
       "      <th>Outcome</th>\n",
       "      <th></th>\n",
       "      <th></th>\n",
       "      <th></th>\n",
       "      <th></th>\n",
       "      <th></th>\n",
       "      <th></th>\n",
       "      <th></th>\n",
       "      <th></th>\n",
       "    </tr>\n",
       "  </thead>\n",
       "  <tbody>\n",
       "    <tr>\n",
       "      <th>0</th>\n",
       "      <td>3.298000</td>\n",
       "      <td>109.980000</td>\n",
       "      <td>68.184000</td>\n",
       "      <td>19.664000</td>\n",
       "      <td>68.792000</td>\n",
       "      <td>30.304200</td>\n",
       "      <td>0.429734</td>\n",
       "      <td>31.190000</td>\n",
       "    </tr>\n",
       "    <tr>\n",
       "      <th>1</th>\n",
       "      <td>4.865672</td>\n",
       "      <td>141.257463</td>\n",
       "      <td>70.824627</td>\n",
       "      <td>22.164179</td>\n",
       "      <td>100.335821</td>\n",
       "      <td>35.142537</td>\n",
       "      <td>0.550500</td>\n",
       "      <td>37.067164</td>\n",
       "    </tr>\n",
       "  </tbody>\n",
       "</table>\n",
       "</div>"
      ],
      "text/plain": [
       "         Pregnancies     Glucose  BloodPressure  SkinThickness     Insulin  \\\n",
       "Outcome                                                                      \n",
       "0           3.298000  109.980000      68.184000      19.664000   68.792000   \n",
       "1           4.865672  141.257463      70.824627      22.164179  100.335821   \n",
       "\n",
       "               BMI  DiabetesPedigreeFunction        Age  \n",
       "Outcome                                                  \n",
       "0        30.304200                  0.429734  31.190000  \n",
       "1        35.142537                  0.550500  37.067164  "
      ]
     },
     "execution_count": 9,
     "metadata": {},
     "output_type": "execute_result"
    }
   ],
   "source": [
    "data.groupby('Outcome').mean()\n",
    "# we can understand that the people who are positive have high glucose"
   ]
  },
  {
   "cell_type": "code",
   "execution_count": 10,
   "id": "1c906b74",
   "metadata": {
    "execution": {
     "iopub.execute_input": "2022-06-03T19:39:12.976412Z",
     "iopub.status.busy": "2022-06-03T19:39:12.975913Z",
     "iopub.status.idle": "2022-06-03T19:39:12.988084Z",
     "shell.execute_reply": "2022-06-03T19:39:12.987534Z"
    },
    "papermill": {
     "duration": 0.02446,
     "end_time": "2022-06-03T19:39:12.990194",
     "exception": false,
     "start_time": "2022-06-03T19:39:12.965734",
     "status": "completed"
    },
    "tags": []
   },
   "outputs": [
    {
     "name": "stdout",
     "output_type": "stream",
     "text": [
      "     Pregnancies  Glucose  BloodPressure  SkinThickness  Insulin   BMI  \\\n",
      "0              6      148             72             35        0  33.6   \n",
      "1              1       85             66             29        0  26.6   \n",
      "2              8      183             64              0        0  23.3   \n",
      "3              1       89             66             23       94  28.1   \n",
      "4              0      137             40             35      168  43.1   \n",
      "..           ...      ...            ...            ...      ...   ...   \n",
      "763           10      101             76             48      180  32.9   \n",
      "764            2      122             70             27        0  36.8   \n",
      "765            5      121             72             23      112  26.2   \n",
      "766            1      126             60              0        0  30.1   \n",
      "767            1       93             70             31        0  30.4   \n",
      "\n",
      "     DiabetesPedigreeFunction  Age  \n",
      "0                       0.627   50  \n",
      "1                       0.351   31  \n",
      "2                       0.672   32  \n",
      "3                       0.167   21  \n",
      "4                       2.288   33  \n",
      "..                        ...  ...  \n",
      "763                     0.171   63  \n",
      "764                     0.340   27  \n",
      "765                     0.245   30  \n",
      "766                     0.349   47  \n",
      "767                     0.315   23  \n",
      "\n",
      "[768 rows x 8 columns]\n",
      "0      1\n",
      "1      0\n",
      "2      1\n",
      "3      0\n",
      "4      1\n",
      "      ..\n",
      "763    0\n",
      "764    0\n",
      "765    0\n",
      "766    1\n",
      "767    0\n",
      "Name: Outcome, Length: 768, dtype: int64\n"
     ]
    }
   ],
   "source": [
    "# Seperating the Output column \n",
    "\n",
    "X = data.drop(columns = 'Outcome', axis = 1)\n",
    "Y = data['Outcome']\n",
    "print(X)\n",
    "print(Y)"
   ]
  },
  {
   "cell_type": "code",
   "execution_count": 11,
   "id": "604b1052",
   "metadata": {
    "execution": {
     "iopub.execute_input": "2022-06-03T19:39:13.010001Z",
     "iopub.status.busy": "2022-06-03T19:39:13.009453Z",
     "iopub.status.idle": "2022-06-03T19:39:13.019538Z",
     "shell.execute_reply": "2022-06-03T19:39:13.018611Z"
    },
    "papermill": {
     "duration": 0.021978,
     "end_time": "2022-06-03T19:39:13.021361",
     "exception": false,
     "start_time": "2022-06-03T19:39:12.999383",
     "status": "completed"
    },
    "tags": []
   },
   "outputs": [
    {
     "data": {
      "text/plain": [
       "StandardScaler()"
      ]
     },
     "execution_count": 11,
     "metadata": {},
     "output_type": "execute_result"
    }
   ],
   "source": [
    "# Data Standadization into a particular range for our ML model\n",
    "\n",
    "scaler = StandardScaler()\n",
    "scaler.fit(X)"
   ]
  },
  {
   "cell_type": "code",
   "execution_count": 12,
   "id": "3dbf0e36",
   "metadata": {
    "execution": {
     "iopub.execute_input": "2022-06-03T19:39:13.042464Z",
     "iopub.status.busy": "2022-06-03T19:39:13.041766Z",
     "iopub.status.idle": "2022-06-03T19:39:13.047260Z",
     "shell.execute_reply": "2022-06-03T19:39:13.046657Z"
    },
    "papermill": {
     "duration": 0.018412,
     "end_time": "2022-06-03T19:39:13.049094",
     "exception": false,
     "start_time": "2022-06-03T19:39:13.030682",
     "status": "completed"
    },
    "tags": []
   },
   "outputs": [],
   "source": [
    "Standardized_data = scaler.transform(X)"
   ]
  },
  {
   "cell_type": "code",
   "execution_count": 13,
   "id": "aa4a288b",
   "metadata": {
    "execution": {
     "iopub.execute_input": "2022-06-03T19:39:13.068990Z",
     "iopub.status.busy": "2022-06-03T19:39:13.068681Z",
     "iopub.status.idle": "2022-06-03T19:39:13.073388Z",
     "shell.execute_reply": "2022-06-03T19:39:13.072606Z"
    },
    "papermill": {
     "duration": 0.016838,
     "end_time": "2022-06-03T19:39:13.075441",
     "exception": false,
     "start_time": "2022-06-03T19:39:13.058603",
     "status": "completed"
    },
    "tags": []
   },
   "outputs": [
    {
     "name": "stdout",
     "output_type": "stream",
     "text": [
      "[[ 0.63994726  0.84832379  0.14964075 ...  0.20401277  0.46849198\n",
      "   1.4259954 ]\n",
      " [-0.84488505 -1.12339636 -0.16054575 ... -0.68442195 -0.36506078\n",
      "  -0.19067191]\n",
      " [ 1.23388019  1.94372388 -0.26394125 ... -1.10325546  0.60439732\n",
      "  -0.10558415]\n",
      " ...\n",
      " [ 0.3429808   0.00330087  0.14964075 ... -0.73518964 -0.68519336\n",
      "  -0.27575966]\n",
      " [-0.84488505  0.1597866  -0.47073225 ... -0.24020459 -0.37110101\n",
      "   1.17073215]\n",
      " [-0.84488505 -0.8730192   0.04624525 ... -0.20212881 -0.47378505\n",
      "  -0.87137393]]\n"
     ]
    }
   ],
   "source": [
    "print(Standardized_data)"
   ]
  },
  {
   "cell_type": "code",
   "execution_count": 14,
   "id": "07d00fbf",
   "metadata": {
    "execution": {
     "iopub.execute_input": "2022-06-03T19:39:13.095299Z",
     "iopub.status.busy": "2022-06-03T19:39:13.094961Z",
     "iopub.status.idle": "2022-06-03T19:39:13.098891Z",
     "shell.execute_reply": "2022-06-03T19:39:13.098165Z"
    },
    "papermill": {
     "duration": 0.015943,
     "end_time": "2022-06-03T19:39:13.100738",
     "exception": false,
     "start_time": "2022-06-03T19:39:13.084795",
     "status": "completed"
    },
    "tags": []
   },
   "outputs": [],
   "source": [
    "X = Standardized_data\n",
    "Y = data['Outcome']"
   ]
  },
  {
   "cell_type": "code",
   "execution_count": 15,
   "id": "9a45961f",
   "metadata": {
    "execution": {
     "iopub.execute_input": "2022-06-03T19:39:13.121768Z",
     "iopub.status.busy": "2022-06-03T19:39:13.121286Z",
     "iopub.status.idle": "2022-06-03T19:39:13.129238Z",
     "shell.execute_reply": "2022-06-03T19:39:13.128686Z"
    },
    "papermill": {
     "duration": 0.020241,
     "end_time": "2022-06-03T19:39:13.130837",
     "exception": false,
     "start_time": "2022-06-03T19:39:13.110596",
     "status": "completed"
    },
    "tags": []
   },
   "outputs": [],
   "source": [
    "#Splitting the data into training and test \n",
    "X_train, X_test, Y_train,Y_test = train_test_split(X, Y, test_size = 0.2, stratify= Y, random_state = 2)"
   ]
  },
  {
   "cell_type": "code",
   "execution_count": 16,
   "id": "8fd7a52c",
   "metadata": {
    "execution": {
     "iopub.execute_input": "2022-06-03T19:39:13.150999Z",
     "iopub.status.busy": "2022-06-03T19:39:13.150492Z",
     "iopub.status.idle": "2022-06-03T19:39:13.155024Z",
     "shell.execute_reply": "2022-06-03T19:39:13.153653Z"
    },
    "papermill": {
     "duration": 0.016912,
     "end_time": "2022-06-03T19:39:13.156964",
     "exception": false,
     "start_time": "2022-06-03T19:39:13.140052",
     "status": "completed"
    },
    "tags": []
   },
   "outputs": [
    {
     "name": "stdout",
     "output_type": "stream",
     "text": [
      "(768, 8) (614, 8) (614,)\n"
     ]
    }
   ],
   "source": [
    "print(X.shape, X_train.shape, Y_train.shape)"
   ]
  },
  {
   "cell_type": "code",
   "execution_count": 17,
   "id": "3ecd7ff6",
   "metadata": {
    "execution": {
     "iopub.execute_input": "2022-06-03T19:39:13.177602Z",
     "iopub.status.busy": "2022-06-03T19:39:13.177092Z",
     "iopub.status.idle": "2022-06-03T19:39:13.180199Z",
     "shell.execute_reply": "2022-06-03T19:39:13.179738Z"
    },
    "papermill": {
     "duration": 0.015065,
     "end_time": "2022-06-03T19:39:13.181724",
     "exception": false,
     "start_time": "2022-06-03T19:39:13.166659",
     "status": "completed"
    },
    "tags": []
   },
   "outputs": [],
   "source": [
    "#Model Training using logistic regression model \n",
    "\n",
    "classifier= svm.SVC(kernel='linear')"
   ]
  },
  {
   "cell_type": "code",
   "execution_count": 18,
   "id": "ba346ef1",
   "metadata": {
    "execution": {
     "iopub.execute_input": "2022-06-03T19:39:13.202159Z",
     "iopub.status.busy": "2022-06-03T19:39:13.201309Z",
     "iopub.status.idle": "2022-06-03T19:39:13.230407Z",
     "shell.execute_reply": "2022-06-03T19:39:13.229541Z"
    },
    "papermill": {
     "duration": 0.040594,
     "end_time": "2022-06-03T19:39:13.231752",
     "exception": false,
     "start_time": "2022-06-03T19:39:13.191158",
     "status": "completed"
    },
    "tags": []
   },
   "outputs": [
    {
     "data": {
      "text/plain": [
       "SVC(kernel='linear')"
      ]
     },
     "execution_count": 18,
     "metadata": {},
     "output_type": "execute_result"
    }
   ],
   "source": [
    "#training the support vector machine classifier\n",
    "\n",
    "classifier.fit(X_train, Y_train)"
   ]
  },
  {
   "cell_type": "code",
   "execution_count": 19,
   "id": "7e9bbe37",
   "metadata": {
    "execution": {
     "iopub.execute_input": "2022-06-03T19:39:13.245406Z",
     "iopub.status.busy": "2022-06-03T19:39:13.244738Z",
     "iopub.status.idle": "2022-06-03T19:39:13.266262Z",
     "shell.execute_reply": "2022-06-03T19:39:13.265698Z"
    },
    "papermill": {
     "duration": 0.029866,
     "end_time": "2022-06-03T19:39:13.267675",
     "exception": false,
     "start_time": "2022-06-03T19:39:13.237809",
     "status": "completed"
    },
    "tags": []
   },
   "outputs": [
    {
     "name": "stdout",
     "output_type": "stream",
     "text": [
      "Accuracy Score:  0.7866449511400652\n"
     ]
    }
   ],
   "source": [
    "#Model Evaluation \n",
    "X_train_predict = classifier.predict(X_train)\n",
    "training_accuracy = accuracy_score(X_train_predict, Y_train)\n",
    "print('Accuracy Score: ',training_accuracy )"
   ]
  },
  {
   "cell_type": "code",
   "execution_count": 20,
   "id": "7e44bd6b",
   "metadata": {
    "execution": {
     "iopub.execute_input": "2022-06-03T19:39:13.282023Z",
     "iopub.status.busy": "2022-06-03T19:39:13.281587Z",
     "iopub.status.idle": "2022-06-03T19:39:13.290545Z",
     "shell.execute_reply": "2022-06-03T19:39:13.289885Z"
    },
    "papermill": {
     "duration": 0.018882,
     "end_time": "2022-06-03T19:39:13.292806",
     "exception": false,
     "start_time": "2022-06-03T19:39:13.273924",
     "status": "completed"
    },
    "tags": []
   },
   "outputs": [
    {
     "name": "stdout",
     "output_type": "stream",
     "text": [
      "Accuracy of the Test data=  0.7727272727272727\n"
     ]
    }
   ],
   "source": [
    "#Accuracy of the  test data \n",
    "\n",
    "X_test_prediction = classifier.predict(X_test)\n",
    "test_data_accuracy = accuracy_score(X_test_prediction, Y_test)\n",
    "print('Accuracy of the Test data= ',test_data_accuracy)"
   ]
  },
  {
   "cell_type": "markdown",
   "id": "e827f260",
   "metadata": {
    "papermill": {
     "duration": 0.009131,
     "end_time": "2022-06-03T19:39:13.312288",
     "exception": false,
     "start_time": "2022-06-03T19:39:13.303157",
     "status": "completed"
    },
    "tags": []
   },
   "source": [
    "# Making a Predictive System\n"
   ]
  },
  {
   "cell_type": "code",
   "execution_count": 21,
   "id": "b64cc959",
   "metadata": {
    "execution": {
     "iopub.execute_input": "2022-06-03T19:39:13.333133Z",
     "iopub.status.busy": "2022-06-03T19:39:13.332498Z",
     "iopub.status.idle": "2022-06-03T19:39:13.344658Z",
     "shell.execute_reply": "2022-06-03T19:39:13.343423Z"
    },
    "papermill": {
     "duration": 0.024772,
     "end_time": "2022-06-03T19:39:13.346610",
     "exception": false,
     "start_time": "2022-06-03T19:39:13.321838",
     "status": "completed"
    },
    "tags": []
   },
   "outputs": [
    {
     "name": "stdout",
     "output_type": "stream",
     "text": [
      "[[ 0.3429808   1.41167241  0.14964075 -0.09637905  0.82661621 -0.78595734\n",
      "   0.34768723  1.51108316]]\n",
      "[1]\n",
      "Positive Diabetes\n"
     ]
    },
    {
     "name": "stderr",
     "output_type": "stream",
     "text": [
      "/opt/conda/lib/python3.7/site-packages/sklearn/base.py:451: UserWarning: X does not have valid feature names, but StandardScaler was fitted with feature names\n",
      "  \"X does not have valid feature names, but\"\n"
     ]
    }
   ],
   "source": [
    "input_data = (5,166,72,19,175,25.8,0.587,51)\n",
    "\n",
    "#coverting into numpy array as it will be faster to process \n",
    "\n",
    "input_data_as_numpy_array = np.asarray(input_data)\n",
    "\n",
    "#reshape the np array as we are predicting for one instance \n",
    "\n",
    "input_data_reshaped = input_data_as_numpy_array.reshape(1,-1)\n",
    "\n",
    "# standadize the input Data\n",
    "\n",
    "std_data = scaler.transform(input_data_reshaped)\n",
    "print(std_data)\n",
    "\n",
    "prediction = classifier.predict(std_data)\n",
    "print(prediction) \n",
    "\n",
    "if(prediction[0] == 1):\n",
    "    print('Positive Diabetes')\n",
    "else:\n",
    "    print('Negative Diabetes')"
   ]
  },
  {
   "cell_type": "code",
   "execution_count": null,
   "id": "6a09f355",
   "metadata": {
    "papermill": {
     "duration": 0.005781,
     "end_time": "2022-06-03T19:39:13.359146",
     "exception": false,
     "start_time": "2022-06-03T19:39:13.353365",
     "status": "completed"
    },
    "tags": []
   },
   "outputs": [],
   "source": []
  }
 ],
 "metadata": {
  "kernelspec": {
   "display_name": "Python 3",
   "language": "python",
   "name": "python3"
  },
  "language_info": {
   "codemirror_mode": {
    "name": "ipython",
    "version": 3
   },
   "file_extension": ".py",
   "mimetype": "text/x-python",
   "name": "python",
   "nbconvert_exporter": "python",
   "pygments_lexer": "ipython3",
   "version": "3.7.12"
  },
  "papermill": {
   "default_parameters": {},
   "duration": 12.747549,
   "end_time": "2022-06-03T19:39:14.085120",
   "environment_variables": {},
   "exception": null,
   "input_path": "__notebook__.ipynb",
   "output_path": "__notebook__.ipynb",
   "parameters": {},
   "start_time": "2022-06-03T19:39:01.337571",
   "version": "2.3.4"
  }
 },
 "nbformat": 4,
 "nbformat_minor": 5
}
